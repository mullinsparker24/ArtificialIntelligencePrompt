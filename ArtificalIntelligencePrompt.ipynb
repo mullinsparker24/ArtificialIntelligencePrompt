{
 "cells": [
  {
   "cell_type": "code",
   "execution_count": null,
   "id": "bdaa9b6b-6df2-4e0d-aede-e822f469f0f4",
   "metadata": {},
   "outputs": [],
   "source": [
    "# Parker Mullins\n",
    "# ArtificalIntelligencePrompt.ipynb\n",
    "\n",
    "# Question 1:\n",
    "# The data appears to be separated into 5 columns consisting of year, major, university, time, and order.\n",
    "# There appears to be no missing data, and there are 5000 entries in each column.\n",
    "# One immediate bias I caught was that there appears to be no entries for students above their third year attending a university.\n",
    "# Besides guessing orders, this dataset could be used to see how many students of each major, grade, and university visit the food truck.\n",
    "# Also, you could see what times tend to be the busiest among students.\n",
    "# You could try to market your business to majors that tend to not visit the food truck as often to get more students visiting.\n",
    "\n",
    "# Question 2:\n",
    "# People own their own data, so they should be 100% consenting to having their data used by the food truck to guess orders.\n",
    "# Also, the food truck should be completely transparent in the data collection and say what it is used for.\n",
    "# Make sure there are no biases in the data collection, such as leaving out year 4 students as mentioned above.\n",
    "# Considering business outcomes, the food truck will save money if the data is used properly in guessing orders.\n",
    "# The reputation and financial stability of the business are also at stake if the data is used in a damaging or biased way.\n",
    "# This can even lead to trouble with customers or legal trouble in the worst cases of data abuse.\n",
    "# Speaking technically, the data should be stored safely so that it cannot be stolen or used harmfully.\n",
    "# Also, the data should be stored in a clean fashion because poor data can cause issues when trying to get results."
   ]
  },
  {
   "cell_type": "code",
   "execution_count": 17,
   "id": "049f8289-8d0a-48e0-adec-686dc9a31885",
   "metadata": {
    "tags": []
   },
   "outputs": [],
   "source": [
    "import warnings\n",
    "warnings.simplefilter(action='ignore')\n",
    "\n",
    "# Import the standard Python libraries\n",
    "import numpy as np\n",
    "import pandas as pd\n",
    "\n",
    "# Import preprocessing and model selection libraries from scikit-learn\n",
    "from sklearn.model_selection import train_test_split, KFold, cross_val_score\n",
    "from sklearn.preprocessing import StandardScaler\n",
    "from sklearn.pipeline import make_pipeline\n",
    "from sklearn.metrics import accuracy_score\n",
    "from sklearn.feature_selection import SelectKBest, f_regression\n",
    "\n",
    "# Import the machine learning models ffrom scikit-learn\n",
    "from sklearn.linear_model import ElasticNet, Lasso, Ridge\n",
    "from sklearn.svm import SVR\n",
    "from sklearn.ensemble import RandomForestRegressor, HistGradientBoostingRegressor\n",
    "from sklearn.preprocessing import LabelEncoder"
   ]
  },
  {
   "cell_type": "code",
   "execution_count": 28,
   "id": "c2ca81ef-5fd1-438f-be26-f35b459ecd69",
   "metadata": {
    "tags": []
   },
   "outputs": [
    {
     "name": "stdout",
     "output_type": "stream",
     "text": [
      "(5000, 5)\n",
      "        Year                    Major                University  Time  \\\n",
      "0     Year 2                  Physics  Indiana State University    12   \n",
      "1     Year 3                Chemistry     Ball State University    14   \n",
      "2     Year 3                Chemistry         Butler University    12   \n",
      "3     Year 2                  Biology  Indiana State University    11   \n",
      "4     Year 3  Business Administration         Butler University    12   \n",
      "...      ...                      ...                       ...   ...   \n",
      "4995  Year 2              Mathematics     Ball State University    11   \n",
      "4996  Year 3                Astronomy  Indiana State University    12   \n",
      "4997  Year 3                Chemistry         Butler University    13   \n",
      "4998  Year 3                Astronomy         Butler University    15   \n",
      "4999  Year 2                Economics  University of Notre Dame    15   \n",
      "\n",
      "                                                  Order  \n",
      "0                                  Fried Catfish Basket  \n",
      "1                                       Sugar Cream Pie  \n",
      "2                                    Indiana Pork Chili  \n",
      "3                                  Fried Catfish Basket  \n",
      "4     Indiana Corn on the Cob (brushed with garlic b...  \n",
      "...                                                 ...  \n",
      "4995                   Breaded Pork Tenderloin Sandwich  \n",
      "4996  Ultimate Grilled Cheese Sandwich (with bacon a...  \n",
      "4997                                    Sugar Cream Pie  \n",
      "4998                                    Sugar Cream Pie  \n",
      "4999                   Breaded Pork Tenderloin Sandwich  \n",
      "\n",
      "[5000 rows x 5 columns]\n"
     ]
    }
   ],
   "source": [
    "# Load the iris dataset into a dataframe\n",
    "FoodX_df = pd.read_csv('FoodX.csv')\n",
    "FoodX_df['Year'].unique()\n",
    "FoodX_df['University'].unique()\n",
    "FoodX_df['Major'].unique()\n",
    "\n",
    "print(FoodX_df.shape)\n",
    "print(FoodX_df)"
   ]
  },
  {
   "cell_type": "code",
   "execution_count": 35,
   "id": "51d48f50-5d8f-4ce6-9b35-67e721ade745",
   "metadata": {
    "tags": []
   },
   "outputs": [
    {
     "name": "stdout",
     "output_type": "stream",
     "text": [
      "(5000, 4)\n",
      "(5000,)\n",
      "(5000, 5)\n",
      "      Year  Major  University  Time  Order\n",
      "0        1     16           3    12      2\n",
      "1        2      5           0    14      7\n",
      "2        2      5           1    12      6\n",
      "3        1      3           3    11      2\n",
      "4        2      4           1    12      5\n",
      "...    ...    ...         ...   ...    ...\n",
      "4995     1     12           0    11      0\n",
      "4996     2      2           3    12      9\n",
      "4997     2      5           1    13      7\n",
      "4998     2      2           1    15      7\n",
      "4999     1      7           8    15      0\n",
      "\n",
      "[5000 rows x 5 columns]\n"
     ]
    }
   ],
   "source": [
    "# Convert categorical values into unique ints\n",
    "label_encoder = LabelEncoder()\n",
    "FoodX_df['Year'] = label_encoder.fit_transform(FoodX_df['Year'])\n",
    "FoodX_df['University'] = label_encoder.fit_transform(FoodX_df['University'])\n",
    "FoodX_df['Major'] = label_encoder.fit_transform(FoodX_df['Major'])\n",
    "FoodX_df['Order'] = label_encoder.fit_transform(FoodX_df['Order'])\n",
    "\n",
    "# Create X and y\n",
    "X = FoodX_df.iloc[:, 0:4]\n",
    "y = FoodX_df['Order']\n",
    "\n",
    "# Test to see if worked\n",
    "print(X.shape)\n",
    "print(y.shape)\n",
    "print(FoodX_df.shape)\n",
    "print(FoodX_df)"
   ]
  },
  {
   "cell_type": "code",
   "execution_count": 36,
   "id": "d30c3b15-1000-4517-b4df-7aa564499fde",
   "metadata": {
    "tags": []
   },
   "outputs": [
    {
     "name": "stdout",
     "output_type": "stream",
     "text": [
      "['Year' 'Major' 'University' 'Time']\n",
      "(5000, 4)\n"
     ]
    }
   ],
   "source": [
    "# Get the \"original\" list of features\n",
    "features = list(X.columns)\n",
    "\n",
    "# Use the SelectKBest method to reduce the number of features used in training the models\n",
    "fs = SelectKBest(score_func=f_regression, k=4)\n",
    "\n",
    "# Fit the selector on the dataset\n",
    "fs.fit(X, y)\n",
    "\n",
    "# Get the names of the selected features\n",
    "selected = fs.get_feature_names_out()\n",
    "print(selected)\n",
    "\n",
    "# Creat \"feature-selected\" X_fs from the original X\n",
    "X_fs = pd.DataFrame(fs.transform(X), columns=selected)\n",
    "print(X_fs.shape)\n",
    "\n",
    "scaler = StandardScaler()\n",
    "scaler.fit(X)\n",
    "X_scaled = scaler.transform(X)"
   ]
  },
  {
   "cell_type": "code",
   "execution_count": 38,
   "id": "2376eb70-374b-4b4d-8d12-0fcb3130151a",
   "metadata": {
    "tags": []
   },
   "outputs": [
    {
     "name": "stdout",
     "output_type": "stream",
     "text": [
      "          ElasticNet: mean R_2_score= 0.0761; standard deviation= 0.0088\n",
      "                 SVR: mean R_2_score= 0.1893; standard deviation= 0.0461\n",
      "               Lasso: mean R_2_score= 0.0119; standard deviation= 0.0033\n",
      "               Ridge: mean R_2_score= 0.1641; standard deviation= 0.0321\n",
      "                 RFR: mean R_2_score= 0.3928; standard deviation= 0.0256\n",
      "                HGBR: mean R_2_score= 0.3981; standard deviation= 0.0180\n"
     ]
    }
   ],
   "source": [
    "# Choosing the best model for our dataset\n",
    "estimators = {'ElasticNet': ElasticNet(), 'SVR': SVR(gamma='scale'), 'Lasso': Lasso(), 'Ridge': Ridge(),\n",
    "              'RFR': RandomForestRegressor(n_estimators=80), 'HGBR': HistGradientBoostingRegressor()}\n",
    "\n",
    "# Evaluating the models\n",
    "for estimator_name, estimator_object in estimators.items():\n",
    "    kfold = KFold(n_splits=10, random_state=11, shuffle=True)\n",
    "    \n",
    "    # Make pipeline with scaler, feature selector, and model\n",
    "    pipe = make_pipeline(StandardScaler(), SelectKBest(score_func=f_regression, k=4), estimator_object)\n",
    "    \n",
    "    scores = cross_val_score(estimator=pipe, X=X, y=y, cv=kfold)\n",
    "    \n",
    "    print(f'{estimator_name:>20}: ' + f'mean R_2_score= {scores.mean():.4f}; ' + f'standard deviation= {scores.std():.4f}')"
   ]
  },
  {
   "cell_type": "code",
   "execution_count": 39,
   "id": "b80d2b51-b172-4b11-8348-6e99fa28e74c",
   "metadata": {
    "tags": []
   },
   "outputs": [
    {
     "name": "stdout",
     "output_type": "stream",
     "text": [
      "(10, 5)\n",
      "      Year  Major  University  Time\n",
      "1849     1      1           3     9\n",
      "2285     1      4           1    12\n",
      "1530     2      7           5    13\n",
      "270      2      1           3    14\n",
      "3053     1      5           3    14\n",
      "2935     2     16           3    12\n",
      "2579     1      4           8    13\n",
      "3323     2     11           0    10\n",
      "3215     2      5           1    12\n",
      "4435     2      7           1    13\n"
     ]
    }
   ],
   "source": [
    "# Sample 10 out-of-sample data instances\n",
    "sample_df = FoodX_df.sample(n=10)\n",
    "print(sample_df.shape)\n",
    "print(sample_df.iloc[:, 0:4])"
   ]
  },
  {
   "cell_type": "code",
   "execution_count": 40,
   "id": "18d08049-fbbe-4793-ae10-f26aa3636fbb",
   "metadata": {
    "tags": []
   },
   "outputs": [
    {
     "name": "stdout",
     "output_type": "stream",
     "text": [
      "(4990, 5)\n"
     ]
    }
   ],
   "source": [
    "# Remove the sample from the original dataframe\n",
    "FoodX_df = FoodX_df.drop(sample_df.index).reset_index(drop=True)\n",
    "print(FoodX_df.shape)"
   ]
  },
  {
   "cell_type": "code",
   "execution_count": 41,
   "id": "f1602762-17f9-4c14-ad07-24bd8522ebc7",
   "metadata": {
    "tags": []
   },
   "outputs": [
    {
     "data": {
      "text/html": [
       "<style>#sk-container-id-1 {color: black;}#sk-container-id-1 pre{padding: 0;}#sk-container-id-1 div.sk-toggleable {background-color: white;}#sk-container-id-1 label.sk-toggleable__label {cursor: pointer;display: block;width: 100%;margin-bottom: 0;padding: 0.3em;box-sizing: border-box;text-align: center;}#sk-container-id-1 label.sk-toggleable__label-arrow:before {content: \"▸\";float: left;margin-right: 0.25em;color: #696969;}#sk-container-id-1 label.sk-toggleable__label-arrow:hover:before {color: black;}#sk-container-id-1 div.sk-estimator:hover label.sk-toggleable__label-arrow:before {color: black;}#sk-container-id-1 div.sk-toggleable__content {max-height: 0;max-width: 0;overflow: hidden;text-align: left;background-color: #f0f8ff;}#sk-container-id-1 div.sk-toggleable__content pre {margin: 0.2em;color: black;border-radius: 0.25em;background-color: #f0f8ff;}#sk-container-id-1 input.sk-toggleable__control:checked~div.sk-toggleable__content {max-height: 200px;max-width: 100%;overflow: auto;}#sk-container-id-1 input.sk-toggleable__control:checked~label.sk-toggleable__label-arrow:before {content: \"▾\";}#sk-container-id-1 div.sk-estimator input.sk-toggleable__control:checked~label.sk-toggleable__label {background-color: #d4ebff;}#sk-container-id-1 div.sk-label input.sk-toggleable__control:checked~label.sk-toggleable__label {background-color: #d4ebff;}#sk-container-id-1 input.sk-hidden--visually {border: 0;clip: rect(1px 1px 1px 1px);clip: rect(1px, 1px, 1px, 1px);height: 1px;margin: -1px;overflow: hidden;padding: 0;position: absolute;width: 1px;}#sk-container-id-1 div.sk-estimator {font-family: monospace;background-color: #f0f8ff;border: 1px dotted black;border-radius: 0.25em;box-sizing: border-box;margin-bottom: 0.5em;}#sk-container-id-1 div.sk-estimator:hover {background-color: #d4ebff;}#sk-container-id-1 div.sk-parallel-item::after {content: \"\";width: 100%;border-bottom: 1px solid gray;flex-grow: 1;}#sk-container-id-1 div.sk-label:hover label.sk-toggleable__label {background-color: #d4ebff;}#sk-container-id-1 div.sk-serial::before {content: \"\";position: absolute;border-left: 1px solid gray;box-sizing: border-box;top: 0;bottom: 0;left: 50%;z-index: 0;}#sk-container-id-1 div.sk-serial {display: flex;flex-direction: column;align-items: center;background-color: white;padding-right: 0.2em;padding-left: 0.2em;position: relative;}#sk-container-id-1 div.sk-item {position: relative;z-index: 1;}#sk-container-id-1 div.sk-parallel {display: flex;align-items: stretch;justify-content: center;background-color: white;position: relative;}#sk-container-id-1 div.sk-item::before, #sk-container-id-1 div.sk-parallel-item::before {content: \"\";position: absolute;border-left: 1px solid gray;box-sizing: border-box;top: 0;bottom: 0;left: 50%;z-index: -1;}#sk-container-id-1 div.sk-parallel-item {display: flex;flex-direction: column;z-index: 1;position: relative;background-color: white;}#sk-container-id-1 div.sk-parallel-item:first-child::after {align-self: flex-end;width: 50%;}#sk-container-id-1 div.sk-parallel-item:last-child::after {align-self: flex-start;width: 50%;}#sk-container-id-1 div.sk-parallel-item:only-child::after {width: 0;}#sk-container-id-1 div.sk-dashed-wrapped {border: 1px dashed gray;margin: 0 0.4em 0.5em 0.4em;box-sizing: border-box;padding-bottom: 0.4em;background-color: white;}#sk-container-id-1 div.sk-label label {font-family: monospace;font-weight: bold;display: inline-block;line-height: 1.2em;}#sk-container-id-1 div.sk-label-container {text-align: center;}#sk-container-id-1 div.sk-container {/* jupyter's `normalize.less` sets `[hidden] { display: none; }` but bootstrap.min.css set `[hidden] { display: none !important; }` so we also need the `!important` here to be able to override the default hidden behavior on the sphinx rendered scikit-learn.org. See: https://github.com/scikit-learn/scikit-learn/issues/21755 */display: inline-block !important;position: relative;}#sk-container-id-1 div.sk-text-repr-fallback {display: none;}</style><div id=\"sk-container-id-1\" class=\"sk-top-container\"><div class=\"sk-text-repr-fallback\"><pre>Pipeline(steps=[(&#x27;standardscaler&#x27;, StandardScaler()),\n",
       "                (&#x27;selectkbest&#x27;,\n",
       "                 SelectKBest(k=4,\n",
       "                             score_func=&lt;function f_regression at 0x00000165557218A0&gt;)),\n",
       "                (&#x27;randomforestregressor&#x27;,\n",
       "                 RandomForestRegressor(n_estimators=80))])</pre><b>In a Jupyter environment, please rerun this cell to show the HTML representation or trust the notebook. <br />On GitHub, the HTML representation is unable to render, please try loading this page with nbviewer.org.</b></div><div class=\"sk-container\" hidden><div class=\"sk-item sk-dashed-wrapped\"><div class=\"sk-label-container\"><div class=\"sk-label sk-toggleable\"><input class=\"sk-toggleable__control sk-hidden--visually\" id=\"sk-estimator-id-1\" type=\"checkbox\" ><label for=\"sk-estimator-id-1\" class=\"sk-toggleable__label sk-toggleable__label-arrow\">Pipeline</label><div class=\"sk-toggleable__content\"><pre>Pipeline(steps=[(&#x27;standardscaler&#x27;, StandardScaler()),\n",
       "                (&#x27;selectkbest&#x27;,\n",
       "                 SelectKBest(k=4,\n",
       "                             score_func=&lt;function f_regression at 0x00000165557218A0&gt;)),\n",
       "                (&#x27;randomforestregressor&#x27;,\n",
       "                 RandomForestRegressor(n_estimators=80))])</pre></div></div></div><div class=\"sk-serial\"><div class=\"sk-item\"><div class=\"sk-estimator sk-toggleable\"><input class=\"sk-toggleable__control sk-hidden--visually\" id=\"sk-estimator-id-2\" type=\"checkbox\" ><label for=\"sk-estimator-id-2\" class=\"sk-toggleable__label sk-toggleable__label-arrow\">StandardScaler</label><div class=\"sk-toggleable__content\"><pre>StandardScaler()</pre></div></div></div><div class=\"sk-item\"><div class=\"sk-estimator sk-toggleable\"><input class=\"sk-toggleable__control sk-hidden--visually\" id=\"sk-estimator-id-3\" type=\"checkbox\" ><label for=\"sk-estimator-id-3\" class=\"sk-toggleable__label sk-toggleable__label-arrow\">SelectKBest</label><div class=\"sk-toggleable__content\"><pre>SelectKBest(k=4, score_func=&lt;function f_regression at 0x00000165557218A0&gt;)</pre></div></div></div><div class=\"sk-item\"><div class=\"sk-estimator sk-toggleable\"><input class=\"sk-toggleable__control sk-hidden--visually\" id=\"sk-estimator-id-4\" type=\"checkbox\" ><label for=\"sk-estimator-id-4\" class=\"sk-toggleable__label sk-toggleable__label-arrow\">RandomForestRegressor</label><div class=\"sk-toggleable__content\"><pre>RandomForestRegressor(n_estimators=80)</pre></div></div></div></div></div></div></div>"
      ],
      "text/plain": [
       "Pipeline(steps=[('standardscaler', StandardScaler()),\n",
       "                ('selectkbest',\n",
       "                 SelectKBest(k=4,\n",
       "                             score_func=<function f_regression at 0x00000165557218A0>)),\n",
       "                ('randomforestregressor',\n",
       "                 RandomForestRegressor(n_estimators=80))])"
      ]
     },
     "execution_count": 41,
     "metadata": {},
     "output_type": "execute_result"
    }
   ],
   "source": [
    "# Train the best model on the dataframe with the sample removed\n",
    "X_new = FoodX_df.iloc[:, 0:4].to_numpy()\n",
    "y_new = FoodX_df['Order']\n",
    "\n",
    "# Create the optimal pipeline\n",
    "pipe = make_pipeline(StandardScaler(), SelectKBest(score_func=f_regression, k=4), RandomForestRegressor(n_estimators=80))\n",
    "pipe.fit(X=X_new, y=y_new)"
   ]
  },
  {
   "cell_type": "code",
   "execution_count": 42,
   "id": "14128043-4b31-48ae-b692-fb5fdda70fa7",
   "metadata": {
    "tags": []
   },
   "outputs": [
    {
     "name": "stdout",
     "output_type": "stream",
     "text": [
      "(10, 5)\n"
     ]
    }
   ],
   "source": [
    "# Make predicitions on \"new\" data\n",
    "print(sample_df.shape)\n",
    "predicted = pipe.predict(sample_df.iloc[:, 0:4])\n",
    "expected = FoodX_df['Order']"
   ]
  },
  {
   "cell_type": "code",
   "execution_count": 50,
   "id": "aa30c2f2-0d1d-4989-a45d-f0248f2b4789",
   "metadata": {
    "tags": []
   },
   "outputs": [
    {
     "name": "stdout",
     "output_type": "stream",
     "text": [
      "      Year  Major  University  Time  Order\n",
      "1849     1      1           3     9      2\n",
      "2285     1      4           1    12      0\n",
      "1530     2      7           5    13      3\n",
      "270      2      1           3    14      3\n",
      "3053     1      5           3    14      4\n",
      "2935     2     16           3    12      2\n",
      "2579     1      4           8    13      9\n",
      "3323     2     11           0    10      5\n",
      "3215     2      5           1    12      7\n",
      "4435     2      7           1    13      7\n"
     ]
    }
   ],
   "source": [
    "print(sample_df)"
   ]
  },
  {
   "cell_type": "code",
   "execution_count": 46,
   "id": "c2349939-997d-493f-92f2-e5c59549815a",
   "metadata": {
    "tags": []
   },
   "outputs": [
    {
     "data": {
      "text/plain": [
       "['model.joblib']"
      ]
     },
     "execution_count": 46,
     "metadata": {},
     "output_type": "execute_result"
    }
   ],
   "source": [
    "# Save the model\n",
    "import joblib\n",
    "joblib.dump(pipe, 'model.joblib')"
   ]
  },
  {
   "cell_type": "code",
   "execution_count": 55,
   "id": "00c5600b-4d2d-4f66-98b8-0668a084cf59",
   "metadata": {
    "tags": []
   },
   "outputs": [
    {
     "name": "stdin",
     "output_type": "stream",
     "text": [
      "Enter the student year:  2\n",
      "Enter the university attended:  11\n",
      "Enter the student's major:  0\n",
      "Enter the time:  13\n"
     ]
    },
    {
     "name": "stdout",
     "output_type": "stream",
     "text": [
      "\n",
      "The predicted order is: 7.196462912087911\n"
     ]
    }
   ],
   "source": [
    "# Guess the order closest to the predicted order value\n",
    "run UserInput.py"
   ]
  },
  {
   "cell_type": "code",
   "execution_count": 57,
   "id": "c3781cae-7ae9-42a5-874f-49a69db31d92",
   "metadata": {
    "tags": []
   },
   "outputs": [
    {
     "data": {
      "text/plain": [
       "<Axes: >"
      ]
     },
     "execution_count": 57,
     "metadata": {},
     "output_type": "execute_result"
    },
    {
     "data": {
      "image/png": "[encoded data removed]",
      "text/plain": [
       "<Figure size 1000x1000 with 2 Axes>"
      ]
     },
     "metadata": {},
     "output_type": "display_data"
    }
   ],
   "source": [
    "import seaborn as sns\n",
    "import matplotlib.pyplot as plt\n",
    "corr = X_fs.corr()\n",
    "f,ax = plt.subplots(figsize=(10, 10))\n",
    "sns.heatmap(corr, vmin=-1, vmax=1, square=True, annot=True, fmt='.3f', cmap='nipy_spectral_r')"
   ]
  },
  {
   "cell_type": "code",
   "execution_count": 58,
   "id": "93120b47-b67f-4c7a-92c4-42af35bc81ac",
   "metadata": {
    "tags": []
   },
   "outputs": [],
   "source": [
    "# Question 3:\n",
    "# To see if this model is a suitable course of action, we would need to look at how well it performed.\n",
    "# Using the RandomForestRegressor, I got my best R2 score of .3928, which means 39.28% of variation is accounted for in the model.\n",
    "# Also, the model had a standard deviation of 0.0256, meaning the predicted order does not vary much.\n",
    "# This is great, because it means the risk is fairly low, and the values do not vary much.\n",
    "# Overall, I believe the model performs well enough to be used by the food truck.\n",
    "# According to the model, the correct order should be given around one third of the time.\n",
    "# However, one bad thing is that none of the four predictors seem to be closely related as shown in the heatmap above."
   ]
  },
  {
   "cell_type": "code",
   "execution_count": null,
   "id": "3ea23944-1e11-4a98-8381-38c8b3a6f4b5",
   "metadata": {},
   "outputs": [],
   "source": []
  }
 ],
 "metadata": {
  "kernelspec": {
   "display_name": "Python 3 (ipykernel)",
   "language": "python",
   "name": "python3"
  },
  "language_info": {
   "codemirror_mode": {
    "name": "ipython",
    "version": 3
   },
   "file_extension": ".py",
   "mimetype": "text/x-python",
   "name": "python",
   "nbconvert_exporter": "python",
   "pygments_lexer": "ipython3",
   "version": "3.11.4"
  }
 },
 "nbformat": 4,
 "nbformat_minor": 5
}
